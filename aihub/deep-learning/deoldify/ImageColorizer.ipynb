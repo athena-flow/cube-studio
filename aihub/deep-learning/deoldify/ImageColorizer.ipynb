{
 "cells": [
  {
   "cell_type": "code",
   "execution_count": 12,
   "metadata": {},
   "outputs": [
    {
     "name": "stdout",
     "output_type": "stream",
     "text": [
      "\u001b[33mWARNING: Running pip as the 'root' user can result in broken permissions and conflicting behaviour with the system package manager. It is recommended to use a virtual environment instead: https://pip.pypa.io/warnings/venv\u001b[0m\n",
      "\u001b[33mWARNING: You are using pip version 21.3.1; however, version 22.2.2 is available.\n",
      "You should consider upgrading via the '/usr/bin/python -m pip install --upgrade pip' command.\u001b[0m\n"
     ]
    }
   ],
   "source": [
    "# 安装环境依赖\n",
    "! apt install -y ffmpeg\n",
    "! pip install wandb fastai==1.0.60 tensorboardX>=1.6 ffmpeg ffmpeg-python yt-dlp opencv-python>=3.3.0.10 Pillow==9.1.0 --extra-index-url https://download.pytorch.org/whl/cu113 torch==1.11.0 torchvision==0.12.0 ipywidgets"
   ]
  },
  {
   "cell_type": "code",
   "execution_count": 16,
   "metadata": {},
   "outputs": [
    {
     "name": "stdout",
     "output_type": "stream",
     "text": [
      "--2022-09-21 17:12:08--  https://www.dropbox.com/s/usf7uifrctqw9rl/ColorizeStable_gen.pth\n",
      "Resolving www.dropbox.com (www.dropbox.com)... 31.13.84.34, 2001::a88f:a114\n",
      "Connecting to www.dropbox.com (www.dropbox.com)|31.13.84.34|:443... connected.\n",
      "HTTP request sent, awaiting response... 302 Found\n",
      "Location: /s/raw/usf7uifrctqw9rl/ColorizeStable_gen.pth [following]\n",
      "--2022-09-21 17:12:13--  https://www.dropbox.com/s/raw/usf7uifrctqw9rl/ColorizeStable_gen.pth\n",
      "Reusing existing connection to www.dropbox.com:443.\n",
      "HTTP request sent, awaiting response... 302 Found\n",
      "Location: https://uc211e25e32f47b7c8df821df096.dl.dropboxusercontent.com/cd/0/inline/BtVwUcy90o4ZQMrhgNjJZv5AZsz7SoMMVVMJb3vOHfK-lA2HDxu8gm7kDQFcOHCYUhEInxf83xSGWzxUZKoncRETlFlABs3SFxGuQcv8beeusS6JCL2GFK4jZ9LGDB5xvuDVCK0sDGPPd6WRYji_w19_Xm7y5pbR7dWE2P4ofTdr0g/file# [following]\n",
      "--2022-09-21 17:12:13--  https://uc211e25e32f47b7c8df821df096.dl.dropboxusercontent.com/cd/0/inline/BtVwUcy90o4ZQMrhgNjJZv5AZsz7SoMMVVMJb3vOHfK-lA2HDxu8gm7kDQFcOHCYUhEInxf83xSGWzxUZKoncRETlFlABs3SFxGuQcv8beeusS6JCL2GFK4jZ9LGDB5xvuDVCK0sDGPPd6WRYji_w19_Xm7y5pbR7dWE2P4ofTdr0g/file\n",
      "Resolving uc211e25e32f47b7c8df821df096.dl.dropboxusercontent.com (uc211e25e32f47b7c8df821df096.dl.dropboxusercontent.com)... 69.50.221.20, 2001::68f4:2eba\n",
      "Connecting to uc211e25e32f47b7c8df821df096.dl.dropboxusercontent.com (uc211e25e32f47b7c8df821df096.dl.dropboxusercontent.com)|69.50.221.20|:443... connected.\n",
      "HTTP request sent, awaiting response... 302 Found\n",
      "Location: /cd/0/inline2/BtXFWMB4vppAoNookRYkOYEmG_MEdf_PY30EXhEHBUxti3B-eumqzWxGqKzcwP-aOigbrlwHG8gGHTGC63uuZnlqbjZe4VJtiNd9Fr3b-dXRkrHFcdDsqpBK4dMxHJc50O_TmSNt8Fxi2F3Hflx1TofLv00b68uL5k93ZmA5tLkt8XAv9SHlS-t-kIos3Zq08bARfDEnXCCSsV9pC4qKOGcXYZzujPUZmGfbJ1wlloKbzCXztVcXpleuvsb1ayMbg_MfRD0CpKFOp9cvBr6j0g_6XHkA-1VPmhq7dSm-jC7f7O8VUXAFZ5i_CGDI31uhvz_FgYEDY_FcycFQc66IAngWGCCp2zNiqFtabX3gtXqlTgLOtQEX_ro89WBiF2nVtHUvcc1JZOjmOiSRe0HFudeRQUSZU30-ti136NhrM6Am1g/file [following]\n",
      "--2022-09-21 17:12:16--  https://uc211e25e32f47b7c8df821df096.dl.dropboxusercontent.com/cd/0/inline2/BtXFWMB4vppAoNookRYkOYEmG_MEdf_PY30EXhEHBUxti3B-eumqzWxGqKzcwP-aOigbrlwHG8gGHTGC63uuZnlqbjZe4VJtiNd9Fr3b-dXRkrHFcdDsqpBK4dMxHJc50O_TmSNt8Fxi2F3Hflx1TofLv00b68uL5k93ZmA5tLkt8XAv9SHlS-t-kIos3Zq08bARfDEnXCCSsV9pC4qKOGcXYZzujPUZmGfbJ1wlloKbzCXztVcXpleuvsb1ayMbg_MfRD0CpKFOp9cvBr6j0g_6XHkA-1VPmhq7dSm-jC7f7O8VUXAFZ5i_CGDI31uhvz_FgYEDY_FcycFQc66IAngWGCCp2zNiqFtabX3gtXqlTgLOtQEX_ro89WBiF2nVtHUvcc1JZOjmOiSRe0HFudeRQUSZU30-ti136NhrM6Am1g/file\n",
      "Reusing existing connection to uc211e25e32f47b7c8df821df096.dl.dropboxusercontent.com:443.\n",
      "HTTP request sent, awaiting response... 200 OK\n",
      "Length: 874066230 (834M) [application/octet-stream]\n",
      "Saving to: ‘models/ColorizeStable_gen.pth’\n",
      "\n",
      "models/ColorizeStab 100%[===================>] 833.57M  15.2MB/s    in 59s     \n",
      "\n",
      "2022-09-21 17:13:16 (14.1 MB/s) - ‘models/ColorizeStable_gen.pth’ saved [874066230/874066230]\n",
      "\n"
     ]
    }
   ],
   "source": [
    "# 下载模型 官网有提供 https://github.com/jantic/DeOldify\n",
    "! wget https://data.deepai.org/deoldify/ColorizeArtistic_gen.pth -O models/ColorizeArtistic_gen.pth\n",
    "# ! wget https://www.dropbox.com/s/usf7uifrctqw9rl/ColorizeStable_gen.pth -O models/ColorizeStable_gen.pth\n",
    "# ! wget https://data.deepai.org/deoldify/ColorizeVideo_gen.pth -O models/ColorizeVideo_gen.pth"
   ]
  },
  {
   "cell_type": "code",
   "execution_count": 7,
   "metadata": {},
   "outputs": [
    {
     "data": {
      "text/plain": [
       "<DeviceId.GPU0: 0>"
      ]
     },
     "execution_count": 7,
     "metadata": {},
     "output_type": "execute_result"
    }
   ],
   "source": [
    "#NOTE:  This must be the first call in order to work properly!\n",
    "from deoldify import device\n",
    "from deoldify.device_id import DeviceId\n",
    "#choices:  CPU, GPU0...GPU7\n",
    "device.set(device=DeviceId.GPU0)"
   ]
  },
  {
   "cell_type": "code",
   "execution_count": 8,
   "metadata": {},
   "outputs": [],
   "source": [
    "from deoldify.visualize import *\n",
    "plt.style.use('dark_background')\n",
    "torch.backends.cudnn.benchmark=True\n",
    "import warnings\n",
    "warnings.filterwarnings(\"ignore\", category=UserWarning, message=\".*?Your .*? set is empty.*?\")"
   ]
  },
  {
   "cell_type": "markdown",
   "metadata": {},
   "source": [
    "NOTE:  Set artistic to False if you're having trouble getting a good render.  Chances are it will work with the Stable model. "
   ]
  },
  {
   "cell_type": "code",
   "execution_count": 9,
   "metadata": {},
   "outputs": [],
   "source": [
    "colorizer = get_image_colorizer(artistic=True)"
   ]
  },
  {
   "cell_type": "markdown",
   "metadata": {},
   "source": [
    "# Instructions\n",
    "\n",
    "### source_url\n",
    "Type in a url to a direct link of an image.  Usually that means they'll end in .png, .jpg, etc.  NOTE: If you want to use your own image, you can set source_url to None and just upload the image to /test_images/ in Jupyter.  Just make sure that the source_path parameter matches the file you uploaded.\n",
    "\n",
    "### source_path\n",
    "Name this whatever sensible image path (plus extension of jpg/png/ext) you want!  Sensible means the path exists and the file exists if source_url=None.\n",
    "\n",
    "### render_factor\n",
    "The default value of 35 has been carefully chosen and should work -ok- for most scenarios (but probably won't be the -best-). This determines resolution at which the color portion of the image is rendered. Lower resolution will render faster, and colors also tend to look more vibrant. Older and lower quality images in particular will generally benefit by lowering the render factor. Higher render factors are often better for higher quality images, but the colors may get slightly washed out. \n",
    "\n",
    "### result_path\n",
    "Ditto- don't change.\n",
    "\n",
    "### How to Download a Copy\n",
    "Simply shift+right click on the displayed image and click \"Save Image As...\"!\n",
    "\n",
    "\n",
    "## Pro Tips\n",
    "1. You can evaluate how well the image is rendered at each render_factor by using the code at the bottom (that cell under \"See how well render_factor values perform on a frame here\"). \n",
    "2. Keep in mind again that you can go up top and set artistic to False for the colorizer to use the 'Stable' model instead.  This will often tend to do better on portraits, and natural landscapes.  \n",
    "\n",
    "\n",
    "## Troubleshooting\n",
    "If you get a 'CUDA out of memory' error, you probably have the render_factor too high.  The max is 45 on 11GB video cards."
   ]
  },
  {
   "cell_type": "markdown",
   "metadata": {},
   "source": [
    "## Colorize!!"
   ]
  },
  {
   "cell_type": "code",
   "execution_count": null,
   "metadata": {},
   "outputs": [],
   "source": [
    "#NOTE:  Max is 45 with 11GB video cards. 35 is a good default\n",
    "render_factor=35\n",
    "#NOTE:  Make source_url None to just read from file at ./video/source/[file_name] directly without modification\n",
    "source_url='https://upload.wikimedia.org/wikipedia/commons/e/e4/Raceland_Louisiana_Beer_Drinkers_Russell_Lee.jpg'\n",
    "source_path = 'test_images/image.png'\n",
    "result_path = None\n",
    "\n",
    "if source_url is not None:\n",
    "    result_path = colorizer.plot_transformed_image_from_url(url=source_url, path=source_path, render_factor=render_factor, compare=True)\n",
    "else:\n",
    "    result_path = colorizer.plot_transformed_image(path=source_path, render_factor=render_factor, compare=True)\n",
    "\n",
    "show_image_in_notebook(result_path)"
   ]
  },
  {
   "cell_type": "code",
   "execution_count": null,
   "metadata": {},
   "outputs": [],
   "source": []
  },
  {
   "cell_type": "markdown",
   "metadata": {},
   "source": [
    "## See how well render_factor values perform on the image here"
   ]
  },
  {
   "cell_type": "code",
   "execution_count": null,
   "metadata": {},
   "outputs": [],
   "source": [
    "#for i in range(10,46):\n",
    "    #colorizer.plot_transformed_image(source_path, render_factor=i, display_render_factor=True, figsize=(10,10))"
   ]
  },
  {
   "cell_type": "code",
   "execution_count": null,
   "metadata": {},
   "outputs": [],
   "source": []
  }
 ],
 "metadata": {
  "kernelspec": {
   "display_name": "Python 3 (ipykernel)",
   "language": "python",
   "name": "python3"
  },
  "language_info": {
   "codemirror_mode": {
    "name": "ipython",
    "version": 3
   },
   "file_extension": ".py",
   "mimetype": "text/x-python",
   "name": "python",
   "nbconvert_exporter": "python",
   "pygments_lexer": "ipython3",
   "version": "3.8.12"
  },
  "toc": {
   "colors": {
    "hover_highlight": "#DAA520",
    "navigate_num": "#000000",
    "navigate_text": "#333333",
    "running_highlight": "#FF0000",
    "selected_highlight": "#FFD700",
    "sidebar_border": "#EEEEEE",
    "wrapper_background": "#FFFFFF"
   },
   "moveMenuLeft": true,
   "nav_menu": {
    "height": "67px",
    "width": "252px"
   },
   "navigate_menu": true,
   "number_sections": true,
   "sideBar": true,
   "threshold": 4,
   "toc_cell": false,
   "toc_section_display": "block",
   "toc_window_display": false,
   "widenNotebook": false
  }
 },
 "nbformat": 4,
 "nbformat_minor": 4
}
